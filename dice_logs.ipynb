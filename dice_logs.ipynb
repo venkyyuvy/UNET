{
 "cells": [
  {
   "cell_type": "code",
   "execution_count": 1,
   "id": "981810b2",
   "metadata": {},
   "outputs": [],
   "source": [
    "from model import UNet\n",
    "from dataset import get_pet_dataloader\n",
    "import pytorch_lightning as pl\n",
    "\n",
    "batch_size = 64"
   ]
  },
  {
   "cell_type": "markdown",
   "id": "5195d448",
   "metadata": {},
   "source": [
    "# MP+Tr+Dice Loss"
   ]
  },
  {
   "cell_type": "code",
   "execution_count": null,
   "id": "aa547768",
   "metadata": {
    "scrolled": false
   },
   "outputs": [
    {
     "name": "stderr",
     "output_type": "stream",
     "text": [
      "GPU available: True (mps), used: True\n",
      "TPU available: False, using: 0 TPU cores\n",
      "IPU available: False, using: 0 IPUs\n",
      "HPU available: False, using: 0 HPUs\n",
      "\n",
      "  | Name       | Type             | Params\n",
      "------------------------------------------------\n",
      "0 | contract1  | ContractingBlock | 39.0 K\n",
      "1 | contract2  | ContractingBlock | 221 K \n",
      "2 | contract3  | ContractingBlock | 886 K \n",
      "3 | contract4  | ContractingBlock | 3.5 M \n",
      "4 | expand1    | ExpandingBlock   | 2.6 M \n",
      "5 | expand2    | ExpandingBlock   | 656 K \n",
      "6 | expand3    | ExpandingBlock   | 164 K \n",
      "7 | final_conv | Conv2d           | 195   \n",
      "------------------------------------------------\n",
      "8.1 M     Trainable params\n",
      "0         Non-trainable params\n",
      "8.1 M     Total params\n",
      "32.533    Total estimated model params size (MB)\n",
      "/opt/homebrew/Caskroom/miniforge/base/envs/torch-gpu/lib/python3.8/site-packages/pytorch_lightning/trainer/connectors/data_connector.py:432: PossibleUserWarning: The dataloader, train_dataloader, does not have many workers which may be a bottleneck. Consider increasing the value of the `num_workers` argument` (try 10 which is the number of cpus on this machine) in the `DataLoader` init to improve performance.\n",
      "  rank_zero_warn(\n"
     ]
    },
    {
     "data": {
      "application/vnd.jupyter.widget-view+json": {
       "model_id": "cff06c6dae1d4fddafb31fe7a1617bfa",
       "version_major": 2,
       "version_minor": 0
      },
      "text/plain": [
       "Training: 0it [00:00, ?it/s]"
      ]
     },
     "metadata": {},
     "output_type": "display_data"
    }
   ],
   "source": [
    "if __name__ == \"__main__\":\n",
    "    train_loader, test_loader = get_pet_dataloader(\".\", batch_size=batch_size)\n",
    "\n",
    "    unet = UNet(\n",
    "        contract_method=\"mp\",\n",
    "        expand_method=\"tr\",\n",
    "        loss_fn=\"dice\"\n",
    "    )\n",
    "    trainer = pl.Trainer(\n",
    "        max_epochs=40,\n",
    "    )\n",
    "    trainer.fit(\n",
    "        model=unet,\n",
    "        train_dataloaders=train_loader,\n",
    "    )"
   ]
  },
  {
   "cell_type": "markdown",
   "id": "649136dc",
   "metadata": {},
   "source": [
    "# StrConv+Ups+Dice Loss"
   ]
  },
  {
   "cell_type": "code",
   "execution_count": null,
   "id": "67c94ae3",
   "metadata": {},
   "outputs": [],
   "source": [
    "\n",
    "\n",
    "if __name__ == \"__main__\":\n",
    "    train_loader, test_loader = get_pet_dataloader(\".\", batch_size=batch_size)\n",
    "\n",
    "    unet = UNet(\n",
    "        loss_fn=\"dice\",\n",
    "        contract_method=\"sc\",\n",
    "        expand_method=\"up\"\n",
    "    )\n",
    "    trainer = pl.Trainer(\n",
    "        max_epochs=40,\n",
    "    )\n",
    "    trainer.fit(\n",
    "        model=unet,\n",
    "        train_dataloaders=train_loader,\n",
    "    )\n"
   ]
  },
  {
   "cell_type": "markdown",
   "id": "2658739c",
   "metadata": {},
   "source": [
    "# MP+Tr+CE"
   ]
  },
  {
   "cell_type": "code",
   "execution_count": null,
   "id": "5c89afa0",
   "metadata": {
    "scrolled": false
   },
   "outputs": [],
   "source": []
  }
 ],
 "metadata": {
  "kernelspec": {
   "display_name": "Python 3 (ipykernel)",
   "language": "python",
   "name": "python3"
  },
  "language_info": {
   "codemirror_mode": {
    "name": "ipython",
    "version": 3
   },
   "file_extension": ".py",
   "mimetype": "text/x-python",
   "name": "python",
   "nbconvert_exporter": "python",
   "pygments_lexer": "ipython3",
   "version": "3.8.15"
  }
 },
 "nbformat": 4,
 "nbformat_minor": 5
}
