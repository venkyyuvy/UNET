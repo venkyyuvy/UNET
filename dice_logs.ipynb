{
 "cells": [
  {
   "cell_type": "code",
   "execution_count": null,
   "id": "981810b2",
   "metadata": {},
   "outputs": [],
   "source": [
    "from model import UNet\n",
    "from dataset import get_pet_dataloader\n",
    "import pytorch_lightning as pl\n",
    "\n",
    "batch_size = 64"
   ]
  },
  {
   "cell_type": "markdown",
   "id": "5195d448",
   "metadata": {},
   "source": [
    "# MP+Tr+Dice Loss"
   ]
  },
  {
   "cell_type": "code",
   "execution_count": null,
   "id": "aa547768",
   "metadata": {
    "scrolled": false
   },
   "outputs": [],
   "source": [
    "if __name__ == \"__main__\":\n",
    "    train_loader, test_loader = get_pet_dataloader(\".\", batch_size=batch_size)\n",
    "\n",
    "    unet = UNet(\n",
    "        contract_method=\"mp\",\n",
    "        expand_method=\"tr\",\n",
    "        loss_fn=\"dice\"\n",
    "    )\n",
    "    trainer = pl.Trainer(\n",
    "        max_epochs=40,\n",
    "    )\n",
    "    trainer.fit(\n",
    "        model=unet,\n",
    "        train_dataloaders=train_loader,\n",
    "    )"
   ]
  },
  {
   "cell_type": "markdown",
   "id": "649136dc",
   "metadata": {},
   "source": [
    "# StrConv+Ups+Dice Loss"
   ]
  },
  {
   "cell_type": "code",
   "execution_count": null,
   "id": "67c94ae3",
   "metadata": {},
   "outputs": [],
   "source": [
    "\n",
    "\n",
    "if __name__ == \"__main__\":\n",
    "    train_loader, test_loader = get_pet_dataloader(\".\", batch_size=batch_size)\n",
    "\n",
    "    unet = UNet(\n",
    "        loss_fn=\"dice\",\n",
    "        contract_method=\"sc\",\n",
    "        expand_method=\"up\"\n",
    "    )\n",
    "    trainer = pl.Trainer(\n",
    "        max_epochs=40,\n",
    "    )\n",
    "    trainer.fit(\n",
    "        model=unet,\n",
    "        train_dataloaders=train_loader,\n",
    "    )\n"
   ]
  },
  {
   "cell_type": "markdown",
   "id": "2658739c",
   "metadata": {},
   "source": [
    "# MP+Tr+CE"
   ]
  },
  {
   "cell_type": "code",
   "execution_count": null,
   "id": "5c89afa0",
   "metadata": {
    "scrolled": false
   },
   "outputs": [],
   "source": []
  }
 ],
 "metadata": {
  "kernelspec": {
   "display_name": "Python 3 (ipykernel)",
   "language": "python",
   "name": "python3"
  },
  "language_info": {
   "codemirror_mode": {
    "name": "ipython",
    "version": 3
   },
   "file_extension": ".py",
   "mimetype": "text/x-python",
   "name": "python",
   "nbconvert_exporter": "python",
   "pygments_lexer": "ipython3",
   "version": "3.8.15"
  }
 },
 "nbformat": 4,
 "nbformat_minor": 5
}
